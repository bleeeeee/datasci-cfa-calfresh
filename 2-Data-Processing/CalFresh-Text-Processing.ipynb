{
 "cells": [
  {
   "cell_type": "markdown",
   "metadata": {},
   "source": [
    "#  Text Processing Pipeline for Cal-Fresh Application Dataset\n",
    "\n",
    "Author: Rocio Ng (DSWG Lead)\n",
    "\n",
    "### Summary:  \n",
    "* The purpose of this notebook is to prototype and test methods for processing free text entered into Applications for the CalFresh Program (https://www.getcalfresh.org/)\n",
    "* Notebook applies helper modules that do the following:\n",
    "    1. Apply light processing to text\n",
    "    2. Attempt to correct mispelled words in the text\n",
    "    3. Apply white-list to redact text that may contain personal information\n",
    "\n",
    "### Resources:\n",
    "* Peter Norvig's Spell Corrector Tutorial (http://norvig.com/spell-correct.html)\n",
    "* Spanish Language Corpus - https://www.corpusdata.org/spanish.asp\n"
   ]
  },
  {
   "cell_type": "markdown",
   "metadata": {},
   "source": [
    "## Load Libraries"
   ]
  },
  {
   "cell_type": "code",
   "execution_count": 1,
   "metadata": {},
   "outputs": [
    {
     "name": "stderr",
     "output_type": "stream",
     "text": [
      "/Users/rociong/anaconda/envs/cal_env/lib/python3.7/site-packages/nltk/decorators.py:68: DeprecationWarning: `formatargspec` is deprecated since Python 3.5. Use `signature` and the `Signature` object directly\n",
      "  regargs, varargs, varkwargs, defaults, formatvalue=lambda value: \"\"\n",
      "/Users/rociong/Desktop/datasci-cfa-calfresh/2-Data-Processing/2-Helper-Modules/spell_checking_functions_v3.py:91: ResourceWarning: unclosed file <_io.TextIOWrapper name='/Users/rociong/Desktop/datasci-cfa-calfresh/2-Data-Processing/2-Helper-Modules/../1-Text-Files/spanish-text.txt' mode='r' encoding='UTF-8'>\n",
      "  self.WORDS = Counter(word_reader(open(path_to_spanish_text).read()))\n",
      "ResourceWarning: Enable tracemalloc to get the object allocation traceback\n"
     ]
    },
    {
     "name": "stdout",
     "output_type": "stream",
     "text": [
      "the cat, is under the tree.\n"
     ]
    }
   ],
   "source": [
    "import numpy as np\n",
    "import pandas as pd\n",
    "from langdetect import detect\n",
    "\n",
    "import warnings\n",
    "warnings.filterwarnings(action='once') # displays warnings only once\n",
    "\n",
    "import os\n",
    "import sys\n",
    "\n",
    "# For loading Helper Functions\n",
    "module_path = os.path.abspath(os.path.join('2-Helper-Modules'))\n",
    "if module_path not in sys.path:\n",
    "    sys.path.append(module_path)\n",
    "\n",
    "# For Multicore processing\n",
    "from multiprocessing import Pool\n",
    "\n",
    "# Helper Modules\n",
    "from spell_checking_functions_v3 import *\n",
    "from text_processing_functions import *\n",
    "from whitelist_functions import *"
   ]
  },
  {
   "cell_type": "code",
   "execution_count": 2,
   "metadata": {},
   "outputs": [
    {
     "data": {
      "text/plain": [
       "'help meh with catfish while i pm applying for ski.'"
      ]
     },
     "execution_count": 2,
     "metadata": {},
     "output_type": "execute_result"
    }
   ],
   "source": [
    "# Testing spell checker\n",
    "en_spellchecker.correction_phrase(\"helpp meh with calfrsh whil i'm applying for ssi  .\")"
   ]
  },
  {
   "cell_type": "code",
   "execution_count": 3,
   "metadata": {},
   "outputs": [],
   "source": [
    "# print(detect('Hi')) # False Negative Results\n",
    "# print(detect('I currently live in my truck'))\n",
    "# print(detect(\"estoy embarazada\"))"
   ]
  },
  {
   "cell_type": "markdown",
   "metadata": {},
   "source": [
    "## Load data\n",
    "* Make sure paths point to where data files are stored locally if you choose to rename/move things"
   ]
  },
  {
   "cell_type": "code",
   "execution_count": 4,
   "metadata": {},
   "outputs": [],
   "source": [
    "text_df = pd.read_csv(\"../1-Data/500_sample_results.csv\")\n",
    "# text_df = pd.read_csv(\"1-Data-Files/orig_entRep_300.csv\")"
   ]
  },
  {
   "cell_type": "code",
   "execution_count": 5,
   "metadata": {},
   "outputs": [
    {
     "data": {
      "text/plain": [
       "(500, 2)"
      ]
     },
     "execution_count": 5,
     "metadata": {},
     "output_type": "execute_result"
    }
   ],
   "source": [
    "text_df.shape"
   ]
  },
  {
   "cell_type": "code",
   "execution_count": 6,
   "metadata": {},
   "outputs": [
    {
     "data": {
      "text/html": [
       "<div>\n",
       "<style scoped>\n",
       "    .dataframe tbody tr th:only-of-type {\n",
       "        vertical-align: middle;\n",
       "    }\n",
       "\n",
       "    .dataframe tbody tr th {\n",
       "        vertical-align: top;\n",
       "    }\n",
       "\n",
       "    .dataframe thead th {\n",
       "        text-align: right;\n",
       "    }\n",
       "</style>\n",
       "<table border=\"1\" class=\"dataframe\">\n",
       "  <thead>\n",
       "    <tr style=\"text-align: right;\">\n",
       "      <th></th>\n",
       "      <th>calfresh_app_id</th>\n",
       "      <th>with_entity_replacement</th>\n",
       "    </tr>\n",
       "  </thead>\n",
       "  <tbody>\n",
       "    <tr>\n",
       "      <th>0</th>\n",
       "      <td>336864</td>\n",
       "      <td>i have blood cancer i have present in palomar ...</td>\n",
       "    </tr>\n",
       "    <tr>\n",
       "      <th>1</th>\n",
       "      <td>336863</td>\n",
       "      <td>I currently live in my truck</td>\n",
       "    </tr>\n",
       "    <tr>\n",
       "      <th>2</th>\n",
       "      <td>336860</td>\n",
       "      <td>estoy embarazada, tengo CARDINAL semanas de em...</td>\n",
       "    </tr>\n",
       "    <tr>\n",
       "      <th>3</th>\n",
       "      <td>336858</td>\n",
       "      <td>other then needing food as soon as possible i ...</td>\n",
       "    </tr>\n",
       "    <tr>\n",
       "      <th>4</th>\n",
       "      <td>336857</td>\n",
       "      <td>I am a single mother renting a room for CARDIN...</td>\n",
       "    </tr>\n",
       "  </tbody>\n",
       "</table>\n",
       "</div>"
      ],
      "text/plain": [
       "   calfresh_app_id                            with_entity_replacement\n",
       "0           336864  i have blood cancer i have present in palomar ...\n",
       "1           336863                      I currently live in my truck \n",
       "2           336860  estoy embarazada, tengo CARDINAL semanas de em...\n",
       "3           336858  other then needing food as soon as possible i ...\n",
       "4           336857  I am a single mother renting a room for CARDIN..."
      ]
     },
     "execution_count": 6,
     "metadata": {},
     "output_type": "execute_result"
    }
   ],
   "source": [
    "text_df.head()"
   ]
  },
  {
   "cell_type": "code",
   "execution_count": 7,
   "metadata": {},
   "outputs": [],
   "source": [
    "text_df = text_df.dropna(subset=['with_entity_replacement'])"
   ]
  },
  {
   "cell_type": "code",
   "execution_count": 8,
   "metadata": {},
   "outputs": [
    {
     "data": {
      "text/plain": [
       "(497, 2)"
      ]
     },
     "execution_count": 8,
     "metadata": {},
     "output_type": "execute_result"
    }
   ],
   "source": [
    "text_df.shape"
   ]
  },
  {
   "cell_type": "markdown",
   "metadata": {},
   "source": [
    "## Processing\n",
    "\n",
    "* Light text processing\n",
    "* Count Spelling Errors\n",
    "* Detect Langage"
   ]
  },
  {
   "cell_type": "code",
   "execution_count": 14,
   "metadata": {},
   "outputs": [
    {
     "data": {
      "text/plain": [
       "' PERSON went to the store at CARDINAL !!'"
      ]
     },
     "execution_count": 14,
     "metadata": {},
     "output_type": "execute_result"
    }
   ],
   "source": [
    "# demo \n",
    "initial_phrase_processing(\" PERSON wenT to The Store at CARDINAL !!\")"
   ]
  },
  {
   "cell_type": "code",
   "execution_count": 15,
   "metadata": {},
   "outputs": [],
   "source": [
    "text_df['processed_phrase'] = text_df.with_entity_replacement\\\n",
    "    .apply(lambda x: initial_phrase_processing(x))"
   ]
  },
  {
   "cell_type": "code",
   "execution_count": 16,
   "metadata": {},
   "outputs": [
    {
     "data": {
      "text/html": [
       "<div>\n",
       "<style scoped>\n",
       "    .dataframe tbody tr th:only-of-type {\n",
       "        vertical-align: middle;\n",
       "    }\n",
       "\n",
       "    .dataframe tbody tr th {\n",
       "        vertical-align: top;\n",
       "    }\n",
       "\n",
       "    .dataframe thead th {\n",
       "        text-align: right;\n",
       "    }\n",
       "</style>\n",
       "<table border=\"1\" class=\"dataframe\">\n",
       "  <thead>\n",
       "    <tr style=\"text-align: right;\">\n",
       "      <th></th>\n",
       "      <th>calfresh_app_id</th>\n",
       "      <th>with_entity_replacement</th>\n",
       "      <th>processed_phrase</th>\n",
       "    </tr>\n",
       "  </thead>\n",
       "  <tbody>\n",
       "    <tr>\n",
       "      <th>0</th>\n",
       "      <td>336864</td>\n",
       "      <td>i have blood cancer i have present in palomar ...</td>\n",
       "      <td>i have blood cancer i have present in palomar ...</td>\n",
       "    </tr>\n",
       "    <tr>\n",
       "      <th>1</th>\n",
       "      <td>336863</td>\n",
       "      <td>I currently live in my truck</td>\n",
       "      <td>i currently live in my truck</td>\n",
       "    </tr>\n",
       "    <tr>\n",
       "      <th>2</th>\n",
       "      <td>336860</td>\n",
       "      <td>estoy embarazada, tengo CARDINAL semanas de em...</td>\n",
       "      <td>estoy embarazada, tengo CARDINAL semanas de em...</td>\n",
       "    </tr>\n",
       "    <tr>\n",
       "      <th>3</th>\n",
       "      <td>336858</td>\n",
       "      <td>other then needing food as soon as possible i ...</td>\n",
       "      <td>other then needing food as soon as possible i ...</td>\n",
       "    </tr>\n",
       "    <tr>\n",
       "      <th>4</th>\n",
       "      <td>336857</td>\n",
       "      <td>I am a single mother renting a room for CARDIN...</td>\n",
       "      <td>i am a single mother renting a room for CARDIN...</td>\n",
       "    </tr>\n",
       "  </tbody>\n",
       "</table>\n",
       "</div>"
      ],
      "text/plain": [
       "   calfresh_app_id                            with_entity_replacement  \\\n",
       "0           336864  i have blood cancer i have present in palomar ...   \n",
       "1           336863                      I currently live in my truck    \n",
       "2           336860  estoy embarazada, tengo CARDINAL semanas de em...   \n",
       "3           336858  other then needing food as soon as possible i ...   \n",
       "4           336857  I am a single mother renting a room for CARDIN...   \n",
       "\n",
       "                                    processed_phrase  \n",
       "0  i have blood cancer i have present in palomar ...  \n",
       "1                      i currently live in my truck   \n",
       "2  estoy embarazada, tengo CARDINAL semanas de em...  \n",
       "3  other then needing food as soon as possible i ...  \n",
       "4  i am a single mother renting a room for CARDIN...  "
      ]
     },
     "execution_count": 16,
     "metadata": {},
     "output_type": "execute_result"
    }
   ],
   "source": [
    "text_df.head()"
   ]
  },
  {
   "cell_type": "code",
   "execution_count": 17,
   "metadata": {},
   "outputs": [],
   "source": [
    "text_df['spelling_errors'] = text_df.processed_phrase\n",
    "text_df = text_df.sort_values('spelling_errors', ascending = False)\n",
    "text_df['language'] = text_df.processed_phrase.apply(lambda x: detect_B(x))"
   ]
  },
  {
   "cell_type": "code",
   "execution_count": 18,
   "metadata": {},
   "outputs": [
    {
     "data": {
      "text/html": [
       "<div>\n",
       "<style scoped>\n",
       "    .dataframe tbody tr th:only-of-type {\n",
       "        vertical-align: middle;\n",
       "    }\n",
       "\n",
       "    .dataframe tbody tr th {\n",
       "        vertical-align: top;\n",
       "    }\n",
       "\n",
       "    .dataframe thead th {\n",
       "        text-align: right;\n",
       "    }\n",
       "</style>\n",
       "<table border=\"1\" class=\"dataframe\">\n",
       "  <thead>\n",
       "    <tr style=\"text-align: right;\">\n",
       "      <th></th>\n",
       "      <th>calfresh_app_id</th>\n",
       "      <th>with_entity_replacement</th>\n",
       "      <th>processed_phrase</th>\n",
       "      <th>spelling_errors</th>\n",
       "    </tr>\n",
       "    <tr>\n",
       "      <th>language</th>\n",
       "      <th></th>\n",
       "      <th></th>\n",
       "      <th></th>\n",
       "      <th></th>\n",
       "    </tr>\n",
       "  </thead>\n",
       "  <tbody>\n",
       "    <tr>\n",
       "      <th>en</th>\n",
       "      <td>484</td>\n",
       "      <td>484</td>\n",
       "      <td>484</td>\n",
       "      <td>484</td>\n",
       "    </tr>\n",
       "    <tr>\n",
       "      <th>es</th>\n",
       "      <td>13</td>\n",
       "      <td>13</td>\n",
       "      <td>13</td>\n",
       "      <td>13</td>\n",
       "    </tr>\n",
       "  </tbody>\n",
       "</table>\n",
       "</div>"
      ],
      "text/plain": [
       "          calfresh_app_id  with_entity_replacement  processed_phrase  \\\n",
       "language                                                               \n",
       "en                    484                      484               484   \n",
       "es                     13                       13                13   \n",
       "\n",
       "          spelling_errors  \n",
       "language                   \n",
       "en                    484  \n",
       "es                     13  "
      ]
     },
     "execution_count": 18,
     "metadata": {},
     "output_type": "execute_result"
    }
   ],
   "source": [
    "text_df.groupby(by = \"language\").count()"
   ]
  },
  {
   "cell_type": "code",
   "execution_count": 19,
   "metadata": {},
   "outputs": [],
   "source": [
    "# text_df[text_df.language.isin(['None'])]"
   ]
  },
  {
   "cell_type": "code",
   "execution_count": 20,
   "metadata": {},
   "outputs": [],
   "source": [
    "text_df = text_df[~text_df.language.isin(['None'])]"
   ]
  },
  {
   "cell_type": "markdown",
   "metadata": {},
   "source": [
    "## Apply Spell Checking Functions\n",
    "\n",
    "* Convert Dataframe column of Phrases to List of Tuples (Word, Language) to enable Multiprocessing\n",
    "* Run spell Correction_phrase function on text\n",
    "* Append back to Dataframe"
   ]
  },
  {
   "cell_type": "code",
   "execution_count": 21,
   "metadata": {},
   "outputs": [],
   "source": [
    "spelling_error_list = list(zip(text_df['processed_phrase'], text_df['language']))"
   ]
  },
  {
   "cell_type": "code",
   "execution_count": 22,
   "metadata": {},
   "outputs": [
    {
     "data": {
      "text/plain": [
       "[('yes im homeless', 'en'),\n",
       " ('yes i would appriciate the help that can be received thru this program thank you PERSON',\n",
       "  'en'),\n",
       " ('working DATE just to eat free meal with shift. recycling to make bus money and hygiene needs met',\n",
       "  'en'),\n",
       " ('will i be able to adjust information? i am moving out with roomates in DATE and was wondering ',\n",
       "  'en'),\n",
       " (\"we pay child support to person's ex wife. she doesn't pay any expenses for the kids but they live with her most of date. \",\n",
       "  'en')]"
      ]
     },
     "execution_count": 22,
     "metadata": {},
     "output_type": "execute_result"
    }
   ],
   "source": [
    "# Preview\n",
    "spelling_error_list[5:10]"
   ]
  },
  {
   "cell_type": "code",
   "execution_count": null,
   "metadata": {},
   "outputs": [],
   "source": [
    "my_pool = Pool(processes=4) # change to number of cores in machine"
   ]
  },
  {
   "cell_type": "code",
   "execution_count": null,
   "metadata": {},
   "outputs": [],
   "source": [
    "# For testing edge cases\n",
    "spell_correction_language((\"semesters\", \"en\")) # will correct to a different word even though correct\n",
    "# spell_correction_language((\"alot\", \"en\"))\n",
    "# spell_correction_language((\"farmacie\", \"es\"))"
   ]
  },
  {
   "cell_type": "code",
   "execution_count": null,
   "metadata": {},
   "outputs": [],
   "source": [
    "# Apply spell correction by language across all text\n",
    "%time spelling_corrections = my_pool.map(spell_correction_language, spelling_error_list)"
   ]
  },
  {
   "cell_type": "code",
   "execution_count": null,
   "metadata": {},
   "outputs": [],
   "source": [
    "spelling_corrections[5:10]"
   ]
  },
  {
   "cell_type": "code",
   "execution_count": null,
   "metadata": {},
   "outputs": [],
   "source": [
    "# Append results to dataframe\n",
    "text_df['spelling_corrections'] = spelling_corrections"
   ]
  },
  {
   "cell_type": "code",
   "execution_count": null,
   "metadata": {},
   "outputs": [],
   "source": [
    "text_df.head()"
   ]
  },
  {
   "cell_type": "code",
   "execution_count": null,
   "metadata": {},
   "outputs": [],
   "source": [
    "#subset_df = text_df.iloc[10:15]"
   ]
  },
  {
   "cell_type": "code",
   "execution_count": null,
   "metadata": {},
   "outputs": [],
   "source": [
    "text_df.to_csv(\"gcf_circumstances_spell_correct.csv\")"
   ]
  },
  {
   "cell_type": "markdown",
   "metadata": {},
   "source": [
    "## Apply White List to Spell Corrected Phrases"
   ]
  },
  {
   "cell_type": "code",
   "execution_count": null,
   "metadata": {},
   "outputs": [],
   "source": [
    "test_phrase = \"This is a Test.   For Rocio. Hello. \"\n",
    "check_whitelist(test_phrase, whitelist_list, \"replace\")"
   ]
  },
  {
   "cell_type": "code",
   "execution_count": null,
   "metadata": {},
   "outputs": [],
   "source": [
    "text_df['whitelisted_phrase'] = text_df.spelling_corrections\\\n",
    "    .apply(lambda x: check_whitelist(x, whitelist_list, \"replace\")[0])"
   ]
  },
  {
   "cell_type": "code",
   "execution_count": null,
   "metadata": {},
   "outputs": [],
   "source": [
    "text_df.head()"
   ]
  },
  {
   "cell_type": "code",
   "execution_count": null,
   "metadata": {},
   "outputs": [],
   "source": [
    "text_df.to_csv(\"gcf_circumstances_spell_correct_whitelist.csv\")"
   ]
  },
  {
   "cell_type": "markdown",
   "metadata": {},
   "source": [
    "## Validate Effectiveness of Corrections"
   ]
  },
  {
   "cell_type": "code",
   "execution_count": null,
   "metadata": {},
   "outputs": [],
   "source": [
    "# text_df['words_removed_raw_words'] = text_df.original_additional_information_text\\\n",
    "#     .apply(lambda x: int(check_whitelist(x, whitelist_list)[1]))\n",
    "\n",
    "# text_df['words_removed_spell_corrected'] = text_df.spelling_corrections\\\n",
    "#     .apply(lambda x: int(check_whitelist(x, whitelist_list, \"remove\")[1]))\n",
    "\n",
    "# text_df = text_df\\\n",
    "#     .assign(pct_improvement = 100*(1 - (text_df.words_removed_spell_corrected/text_df.words_removed_raw_words)))\\\n",
    "#     .assign(improvement = text_df.words_removed_raw_words - text_df.words_removed_spell_corrected)"
   ]
  },
  {
   "cell_type": "code",
   "execution_count": null,
   "metadata": {},
   "outputs": [],
   "source": [
    "# missing_words = [\"test\", \"in\", \"an\", \"never\", \"work\", \"part\", \"house\"]"
   ]
  },
  {
   "cell_type": "code",
   "execution_count": null,
   "metadata": {},
   "outputs": [],
   "source": []
  }
 ],
 "metadata": {
  "kernelspec": {
   "display_name": "cal_env",
   "language": "python",
   "name": "cal_env"
  },
  "language_info": {
   "codemirror_mode": {
    "name": "ipython",
    "version": 3
   },
   "file_extension": ".py",
   "mimetype": "text/x-python",
   "name": "python",
   "nbconvert_exporter": "python",
   "pygments_lexer": "ipython3",
   "version": "3.7.2"
  }
 },
 "nbformat": 4,
 "nbformat_minor": 2
}
